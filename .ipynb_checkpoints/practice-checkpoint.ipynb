{
 "cells": [
  {
   "cell_type": "markdown",
   "metadata": {},
   "source": [
    "x=03\n",
    "while x < 10:\n",
    "    print(x)\n",
    "    x+=1;\n"
   ]
  },
  {
   "cell_type": "code",
   "execution_count": 13,
   "metadata": {},
   "outputs": [
    {
     "name": "stdout",
     "output_type": "stream",
     "text": [
      "0\n",
      "1\n",
      "2\n",
      "3\n",
      "4\n",
      "5\n",
      "6\n",
      "7\n",
      "8\n",
      "9\n"
     ]
    }
   ],
   "source": [
    "for x in range(10):\n",
    "    print(x);"
   ]
  },
  {
   "cell_type": "code",
   "execution_count": 35,
   "metadata": {},
   "outputs": [
    {
     "name": "stdout",
     "output_type": "stream",
     "text": [
      "enter no.5\n",
      "* * * * "
     ]
    }
   ],
   "source": [
    "num=int(input('enter no.'))\n",
    "for y in range(0,a):\n",
    "    for z in range(1):\n",
    "        print('*',end=' ');"
   ]
  },
  {
   "cell_type": "code",
   "execution_count": 17,
   "metadata": {},
   "outputs": [
    {
     "name": "stdout",
     "output_type": "stream",
     "text": [
      " \n",
      " \n",
      " \n",
      " \n",
      " \n",
      "*\n",
      "*\n",
      "*\n",
      "*\n",
      "*\n",
      "\n",
      "\n",
      " \n",
      " \n",
      " \n",
      " \n",
      " \n",
      "*\n",
      "*\n",
      "*\n",
      "*\n",
      "*\n",
      "\n",
      "\n",
      " \n",
      " \n",
      " \n",
      " \n",
      " \n",
      "*\n",
      "*\n",
      "*\n",
      "*\n",
      "*\n",
      "\n",
      "\n",
      " \n",
      " \n",
      " \n",
      " \n",
      " \n",
      "*\n",
      "*\n",
      "*\n",
      "*\n",
      "*\n",
      "\n",
      "\n",
      " \n",
      " \n",
      " \n",
      " \n",
      " \n",
      "*\n",
      "*\n",
      "*\n",
      "*\n",
      "*\n",
      "\n",
      "\n",
      " \n",
      " \n",
      " \n",
      " \n",
      " \n",
      "*\n",
      "*\n",
      "*\n",
      "*\n",
      "*\n",
      "\n",
      "\n",
      " \n",
      " \n",
      " \n",
      " \n",
      " \n",
      "*\n",
      "*\n",
      "*\n",
      "*\n",
      "*\n",
      "\n",
      "\n",
      " \n",
      " \n",
      " \n",
      " \n",
      " \n",
      "*\n",
      "*\n",
      "*\n",
      "*\n",
      "*\n",
      "\n",
      "\n",
      " \n",
      " \n",
      " \n",
      " \n",
      " \n",
      "*\n",
      "*\n",
      "*\n",
      "*\n",
      "*\n",
      "\n",
      "\n",
      " \n",
      " \n",
      " \n",
      " \n",
      " \n",
      "*\n",
      "*\n",
      "*\n",
      "*\n",
      "*\n",
      "\n",
      "\n"
     ]
    }
   ],
   "source": [
    "for i in range(5):\n",
    "    for j in range(5):\n",
    "        print(' ');\n",
    "    for k in range(5):\n",
    "        print('*');\n",
    "    print('\\n');\n",
    "for l in range(5):\n",
    "    for m in range(5):\n",
    "        print(' ');\n",
    "    for n in range(5):\n",
    "        print('*');\n",
    "    print('\\n')    "
   ]
  },
  {
   "cell_type": "code",
   "execution_count": 21,
   "metadata": {},
   "outputs": [
    {
     "name": "stdout",
     "output_type": "stream",
     "text": [
      "*\n",
      "*\n",
      "*\n",
      "*\n",
      "*\n",
      " \n",
      "*\n",
      "*\n",
      "*\n",
      "*\n",
      "*\n",
      " \n",
      "*\n",
      "*\n",
      "*\n",
      "*\n",
      "*\n",
      " \n",
      "*\n",
      "*\n",
      "*\n",
      "*\n",
      "*\n",
      " \n",
      "*\n",
      "*\n",
      "*\n",
      "*\n",
      "*\n",
      " \n"
     ]
    }
   ],
   "source": [
    "for a in range(5):\n",
    "    for a in range(5):\n",
    "        print('*');\n",
    "    print(' ');\n"
   ]
  },
  {
   "cell_type": "code",
   "execution_count": 36,
   "metadata": {},
   "outputs": [
    {
     "ename": "ModuleNotFoundError",
     "evalue": "No module named 'largest'",
     "output_type": "error",
     "traceback": [
      "\u001b[1;31m---------------------------------------------------------------------------\u001b[0m",
      "\u001b[1;31mModuleNotFoundError\u001b[0m                       Traceback (most recent call last)",
      "\u001b[1;32m<ipython-input-36-2909eebfbbf3>\u001b[0m in \u001b[0;36m<module>\u001b[1;34m()\u001b[0m\n\u001b[1;32m----> 1\u001b[1;33m \u001b[1;32mimport\u001b[0m \u001b[0mlargest\u001b[0m\u001b[1;33m\u001b[0m\u001b[0m\n\u001b[0m",
      "\u001b[1;31mModuleNotFoundError\u001b[0m: No module named 'largest'"
     ]
    }
   ],
   "source": [
    "import largest"
   ]
  },
  {
   "cell_type": "code",
   "execution_count": 1,
   "metadata": {},
   "outputs": [
    {
     "name": "stdout",
     "output_type": "stream",
     "text": [
      "The Zen of Python, by Tim Peters\n",
      "\n",
      "Beautiful is better than ugly.\n",
      "Explicit is better than implicit.\n",
      "Simple is better than complex.\n",
      "Complex is better than complicated.\n",
      "Flat is better than nested.\n",
      "Sparse is better than dense.\n",
      "Readability counts.\n",
      "Special cases aren't special enough to break the rules.\n",
      "Although practicality beats purity.\n",
      "Errors should never pass silently.\n",
      "Unless explicitly silenced.\n",
      "In the face of ambiguity, refuse the temptation to guess.\n",
      "There should be one-- and preferably only one --obvious way to do it.\n",
      "Although that way may not be obvious at first unless you're Dutch.\n",
      "Now is better than never.\n",
      "Although never is often better than *right* now.\n",
      "If the implementation is hard to explain, it's a bad idea.\n",
      "If the implementation is easy to explain, it may be a good idea.\n",
      "Namespaces are one honking great idea -- let's do more of those!\n"
     ]
    }
   ],
   "source": [
    "import this"
   ]
  },
  {
   "cell_type": "code",
   "execution_count": 49,
   "metadata": {},
   "outputs": [],
   "source": [
    "import this"
   ]
  },
  {
   "cell_type": "code",
   "execution_count": 50,
   "metadata": {},
   "outputs": [],
   "source": [
    "import this"
   ]
  },
  {
   "cell_type": "code",
   "execution_count": 51,
   "metadata": {},
   "outputs": [
    {
     "data": {
      "text/plain": [
       "4"
      ]
     },
     "execution_count": 51,
     "metadata": {},
     "output_type": "execute_result"
    }
   ],
   "source": [
    "2+2"
   ]
  },
  {
   "cell_type": "code",
   "execution_count": 16,
   "metadata": {},
   "outputs": [
    {
     "name": "stdout",
     "output_type": "stream",
     "text": [
      "how many no. you want to process7\n",
      "enter element number:  0\n",
      "65\n",
      "enter element number:  1\n",
      "15\n",
      "enter element number:  2\n",
      "35\n",
      "enter element number:  3\n",
      "95\n",
      "enter element number:  4\n",
      "15\n",
      "enter element number:  5\n",
      "24\n",
      "enter element number:  6\n",
      "75\n",
      "[15, 15, 24, 35, 65, 75, 95]\n"
     ]
    }
   ],
   "source": [
    "num=[]\n",
    "n=int(input(\"how many no. you want to process\"))\n",
    "for l in range(n):\n",
    "    print(\"enter element number: \",l)\n",
    "    num.insert(l,int(input(\"\")))\n",
    "for j in range(1,n):\n",
    "    key=num[j]\n",
    "    i=j-1\n",
    "    while (i>=0) and num[i]>key:\n",
    "        num[i+1]=num[i]\n",
    "        i=i-1\n",
    "        num[i+1]=key\n",
    "print(num)        \n",
    "    \n",
    "    "
   ]
  },
  {
   "cell_type": "code",
   "execution_count": null,
   "metadata": {},
   "outputs": [],
   "source": [
    "num1= int(input(enter num 1 : ))\n",
    "num2=int(input(enter num 2 : ))\n",
    "num3=int(input(enter num 3 : ))\n",
    "if num1 > num2:\n",
    "    maxim="
   ]
  },
  {
   "cell_type": "code",
   "execution_count": 20,
   "metadata": {},
   "outputs": [
    {
     "name": "stdout",
     "output_type": "stream",
     "text": [
      "enter a no.5\n",
      "False\n"
     ]
    }
   ],
   "source": [
    "x=int(input(\"enter a no.\"))\n",
    "print(x>10)"
   ]
  },
  {
   "cell_type": "code",
   "execution_count": 23,
   "metadata": {},
   "outputs": [
    {
     "name": "stdout",
     "output_type": "stream",
     "text": [
      "enter you percentage in number :70\n",
      "congratrates! you are pass\n"
     ]
    }
   ],
   "source": [
    "per=int(input(\"enter you percentage in number :\"))\n",
    "if per>=60:\n",
    "    print('congratrates! you are pass')\n",
    "else:\n",
    "    print('ups! you are fail')\n"
   ]
  },
  {
   "cell_type": "code",
   "execution_count": 30,
   "metadata": {},
   "outputs": [
    {
     "name": "stdout",
     "output_type": "stream",
     "text": [
      "enter you percentage in number :79\n",
      "congrates! your grade is :  A\n"
     ]
    }
   ],
   "source": [
    "per=int(input(\"enter you percentage in number :\"))\n",
    "if per>=80:\n",
    "    grade='A+'\n",
    "elif per>=70:\n",
    "    grade='A'\n",
    "elif per>=60:\n",
    "    grade='B' \n",
    "else:\n",
    "    grade='-'\n",
    "    print('ups! you are fail')\n",
    "print('congrates! your grade is : ',grade)        "
   ]
  },
  {
   "cell_type": "code",
   "execution_count": 2,
   "metadata": {},
   "outputs": [
    {
     "name": "stdout",
     "output_type": "stream",
     "text": [
      "[1, 2, 3, 4, 5, 6]\n"
     ]
    }
   ],
   "source": [
    "A=[5,2,4,6,1,3]\n",
    "n=len(A)\n",
    "for i in range(0,n-1):\n",
    "    minimum=i\n",
    "    j=i+1\n",
    "    for k in range(j,n):\n",
    "        if A[k]<A[minimum]:\n",
    "            minimum=k\n",
    "    temp=A[minimum]\n",
    "    A[minimum]=A[i]\n",
    "    A[i]=temp\n",
    "    \n",
    "print (A)"
   ]
  },
  {
   "cell_type": "code",
   "execution_count": null,
   "metadata": {},
   "outputs": [],
   "source": [
    "A=[5,2,4,6,1,3]\n",
    "#n=int(input(\"how many no. you want to process\"))\n",
    "#for l in range(n):\n",
    " #   print(\"enter element number: \",l)\n",
    "  #  num.insert(l,int(input(\"\")))\n",
    "n=len(A)\n",
    "for i in range(0,n-1):\n",
    "    minimum=i\n",
    "    j=i+1\n",
    "    for k in range(j,n):\n",
    "        if A[k]<A[minimum]:\n",
    "            minimum=k\n",
    "    temp=A[minimum]\n",
    "    A[minimum]=A[i]\n",
    "    A[i]=temp\n",
    "    \n",
    "print (A)"
   ]
  },
  {
   "cell_type": "code",
   "execution_count": 6,
   "metadata": {},
   "outputs": [],
   "source": [
    "A=[5,2,4,6,1,3]\n",
    "n=len(A)\n",
    "for i in range(0,n-1):\n",
    "    for k in range(n,i+1):\n",
    "        if A[k]<A[k-1]:\n",
    "            temp=A[minimum]\n",
    "            A[minimum]=A[i]\n",
    "            A[i]=temp\n",
    "    "
   ]
  },
  {
   "cell_type": "code",
   "execution_count": null,
   "metadata": {},
   "outputs": [],
   "source": []
  },
  {
   "cell_type": "code",
   "execution_count": 1,
   "metadata": {},
   "outputs": [
    {
     "name": "stdout",
     "output_type": "stream",
     "text": [
      "[1, 2, 3, 4]\n"
     ]
    }
   ],
   "source": [
    "def insert_sort(seq):\n",
    "    for w in range(1,len(seq)):\n",
    "        key=seq[w]\n",
    "        j=w-1\n",
    "        while j>-1 and seq[j]>key:\n",
    "            seq[j+1]=seq[j]\n",
    "            j=j-1\n",
    "        seq[j+1]=key\n",
    "    return seq   \n",
    "arr = [3,4,1,2]\n",
    "print(insert_sort(arr))"
   ]
  },
  {
   "cell_type": "code",
   "execution_count": 6,
   "metadata": {},
   "outputs": [],
   "source": [
    "def bubble_sort(A):\n",
    "    for i in range(len(A)-1):\n",
    "        for j in range(len(A)-1,i,-1):\n",
    "            if A[j]<A[j-1]:\n",
    "                A[j],A[j-1]=A[j-1],A[j]\n",
    "                "
   ]
  },
  {
   "cell_type": "code",
   "execution_count": 9,
   "metadata": {},
   "outputs": [],
   "source": [
    "def select_sort(lst):\n",
    "    for i in range(len(lst)):\n",
    "        min_val_pos=i\n",
    "        for j in range(i+1,len(lst)):\n",
    "            if lst[min_val_pos]>lst[j]:\n",
    "                min_val_pos=1\n",
    "        temp=lst[i]\n",
    "        lst[i]=lst[min_val_pos]\n",
    "        lst[min_val_pos]=temp\n",
    "    return lst    "
   ]
  },
  {
   "cell_type": "code",
   "execution_count": 10,
   "metadata": {},
   "outputs": [],
   "source": [
    "import time as ti"
   ]
  },
  {
   "cell_type": "code",
   "execution_count": 13,
   "metadata": {},
   "outputs": [],
   "source": [
    "a=ti.time();p=insert_sort(list(range(10000,1,-1)));b=ti.time();c= b-a"
   ]
  },
  {
   "cell_type": "code",
   "execution_count": 14,
   "metadata": {},
   "outputs": [
    {
     "data": {
      "text/plain": [
       "11.219351768493652"
      ]
     },
     "execution_count": 14,
     "metadata": {},
     "output_type": "execute_result"
    }
   ],
   "source": [
    "c"
   ]
  },
  {
   "cell_type": "code",
   "execution_count": 20,
   "metadata": {},
   "outputs": [],
   "source": [
    "a=ti.time();p=bubble_sort(list(range(10000,1,-1)));b=ti.time();c=b-a"
   ]
  },
  {
   "cell_type": "code",
   "execution_count": 21,
   "metadata": {},
   "outputs": [
    {
     "data": {
      "text/plain": [
       "18.558889150619507"
      ]
     },
     "execution_count": 21,
     "metadata": {},
     "output_type": "execute_result"
    }
   ],
   "source": [
    "c"
   ]
  },
  {
   "cell_type": "code",
   "execution_count": 22,
   "metadata": {},
   "outputs": [],
   "source": [
    "a=ti.time();p=select_sort(list(range(10000,1,-1)));b=ti.time();c=b-a"
   ]
  },
  {
   "cell_type": "code",
   "execution_count": 7,
   "metadata": {},
   "outputs": [
    {
     "ename": "NameError",
     "evalue": "name 'c' is not defined",
     "output_type": "error",
     "traceback": [
      "\u001b[1;31m---------------------------------------------------------------------------\u001b[0m",
      "\u001b[1;31mNameError\u001b[0m                                 Traceback (most recent call last)",
      "\u001b[1;32m<ipython-input-7-2b66fd261ee5>\u001b[0m in \u001b[0;36m<module>\u001b[1;34m()\u001b[0m\n\u001b[1;32m----> 1\u001b[1;33m \u001b[0mc\u001b[0m\u001b[1;33m\u001b[0m\u001b[0m\n\u001b[0m",
      "\u001b[1;31mNameError\u001b[0m: name 'c' is not defined"
     ]
    }
   ],
   "source": [
    "c"
   ]
  },
  {
   "cell_type": "code",
   "execution_count": 12,
   "metadata": {},
   "outputs": [
    {
     "name": "stdout",
     "output_type": "stream",
     "text": [
      "[1, 3, 5, 7, 9, 11]\n"
     ]
    }
   ],
   "source": [
    "from math import*\n",
    "B=[]\n",
    "A=[1,3,5,7,9,11]\n",
    "n=len(A)\n",
    "p=0\n",
    "q=int(n/2)\n",
    "r=n\n",
    "n1=q\n",
    "n2=r-q\n",
    "L=[]\n",
    "R=[]\n",
    "for i in range(n1):\n",
    "    L.append(A[p+i])\n",
    "for j in range (n2):\n",
    "    R.append(A[q+j])\n",
    "L.append(inf)\n",
    "R.append(inf)\n",
    "i=0\n",
    "j=0\n",
    "for k in range(r):\n",
    "    if L[i]<=R[j]:\n",
    "        B.append(L[i])\n",
    "        i+=1\n",
    "    else:\n",
    "        B.append(R[j])\n",
    "        j+=1\n",
    "print(B)        "
   ]
  },
  {
   "cell_type": "code",
   "execution_count": 1,
   "metadata": {},
   "outputs": [
    {
     "name": "stdout",
     "output_type": "stream",
     "text": [
      "True\n"
     ]
    }
   ],
   "source": [
    "import time \n",
    "def binarysearch(alist,item):\n",
    "    first = 0\n",
    "    last = len(alist)-1\n",
    "    found = False\n",
    "    while first <= last and not found :\n",
    "        midpoint = (first + last)//2\n",
    "        if alist[midpoint]==item:\n",
    "            found = True \n",
    "        else:\n",
    "            if item < alist[midpoint]:\n",
    "                last = midpoint - 1\n",
    "            else:\n",
    "                first = midpoint + 1\n",
    "    return found \n",
    "r = list(range(1,9))\n",
    "item = 7\n",
    "p=binarysearch(r,item)\n",
    "print(p)"
   ]
  },
  {
   "cell_type": "code",
   "execution_count": null,
   "metadata": {},
   "outputs": [],
   "source": [
    "import time \n",
    "def binarysort(alist,val):\n",
    "    first = 0 \n",
    "    last = len(alist)-1\n",
    "    while first <= last:\n",
    "        midpoint = (first + last)//2\n",
    "        if val < alist[midpoint]:\n",
    "            last = midpoint-1\n",
    "        else:\n",
    "            first = midpoint+1\n",
    "    l= alist[0:first]+[val]\n",
    "    r=alist[len(l)-1:len(alist)]\n",
    "    p=l+r\n",
    "    return p"
   ]
  },
  {
   "cell_type": "code",
   "execution_count": 1,
   "metadata": {},
   "outputs": [],
   "source": [
    "class Student():\n",
    "    pass"
   ]
  },
  {
   "cell_type": "code",
   "execution_count": 2,
   "metadata": {},
   "outputs": [],
   "source": [
    "a=Student()"
   ]
  },
  {
   "cell_type": "code",
   "execution_count": 3,
   "metadata": {},
   "outputs": [
    {
     "data": {
      "text/plain": [
       "__main__.Student"
      ]
     },
     "execution_count": 3,
     "metadata": {},
     "output_type": "execute_result"
    }
   ],
   "source": [
    "type(a)"
   ]
  },
  {
   "cell_type": "code",
   "execution_count": 6,
   "metadata": {},
   "outputs": [],
   "source": [
    "x=3"
   ]
  },
  {
   "cell_type": "code",
   "execution_count": 7,
   "metadata": {},
   "outputs": [
    {
     "data": {
      "text/plain": [
       "int"
      ]
     },
     "execution_count": 7,
     "metadata": {},
     "output_type": "execute_result"
    }
   ],
   "source": [
    "type(x)"
   ]
  },
  {
   "cell_type": "code",
   "execution_count": 8,
   "metadata": {},
   "outputs": [],
   "source": [
    "a.name='peter'"
   ]
  },
  {
   "cell_type": "code",
   "execution_count": 9,
   "metadata": {},
   "outputs": [
    {
     "data": {
      "text/plain": [
       "'peter'"
      ]
     },
     "execution_count": 9,
     "metadata": {},
     "output_type": "execute_result"
    }
   ],
   "source": [
    "a.name"
   ]
  },
  {
   "cell_type": "code",
   "execution_count": null,
   "metadata": {},
   "outputs": [],
   "source": []
  },
  {
   "cell_type": "code",
   "execution_count": 15,
   "metadata": {},
   "outputs": [],
   "source": [
    "Student.name='peter'\n"
   ]
  },
  {
   "cell_type": "code",
   "execution_count": null,
   "metadata": {},
   "outputs": [],
   "source": []
  },
  {
   "cell_type": "code",
   "execution_count": null,
   "metadata": {},
   "outputs": [],
   "source": [
    "student "
   ]
  },
  {
   "cell_type": "code",
   "execution_count": null,
   "metadata": {},
   "outputs": [],
   "source": []
  },
  {
   "cell_type": "code",
   "execution_count": null,
   "metadata": {},
   "outputs": [],
   "source": []
  },
  {
   "cell_type": "code",
   "execution_count": null,
   "metadata": {},
   "outputs": [],
   "source": []
  },
  {
   "cell_type": "code",
   "execution_count": null,
   "metadata": {},
   "outputs": [],
   "source": []
  },
  {
   "cell_type": "code",
   "execution_count": null,
   "metadata": {},
   "outputs": [],
   "source": []
  },
  {
   "cell_type": "code",
   "execution_count": 10,
   "metadata": {},
   "outputs": [],
   "source": [
    "a.roll=75"
   ]
  },
  {
   "cell_type": "code",
   "execution_count": 11,
   "metadata": {},
   "outputs": [
    {
     "data": {
      "text/plain": [
       "75"
      ]
     },
     "execution_count": 11,
     "metadata": {},
     "output_type": "execute_result"
    }
   ],
   "source": [
    "a.roll"
   ]
  },
  {
   "cell_type": "code",
   "execution_count": null,
   "metadata": {},
   "outputs": [],
   "source": []
  },
  {
   "cell_type": "code",
   "execution_count": null,
   "metadata": {},
   "outputs": [],
   "source": []
  },
  {
   "cell_type": "code",
   "execution_count": null,
   "metadata": {},
   "outputs": [],
   "source": []
  },
  {
   "cell_type": "code",
   "execution_count": null,
   "metadata": {},
   "outputs": [],
   "source": []
  },
  {
   "cell_type": "code",
   "execution_count": null,
   "metadata": {},
   "outputs": [],
   "source": []
  },
  {
   "cell_type": "code",
   "execution_count": null,
   "metadata": {},
   "outputs": [],
   "source": []
  },
  {
   "cell_type": "code",
   "execution_count": null,
   "metadata": {},
   "outputs": [],
   "source": []
  },
  {
   "cell_type": "code",
   "execution_count": null,
   "metadata": {},
   "outputs": [],
   "source": []
  },
  {
   "cell_type": "code",
   "execution_count": null,
   "metadata": {},
   "outputs": [],
   "source": []
  },
  {
   "cell_type": "code",
   "execution_count": null,
   "metadata": {},
   "outputs": [],
   "source": []
  }
 ],
 "metadata": {
  "kernelspec": {
   "display_name": "Python 3",
   "language": "python",
   "name": "python3"
  },
  "language_info": {
   "codemirror_mode": {
    "name": "ipython",
    "version": 3
   },
   "file_extension": ".py",
   "mimetype": "text/x-python",
   "name": "python",
   "nbconvert_exporter": "python",
   "pygments_lexer": "ipython3",
   "version": "3.7.0"
  }
 },
 "nbformat": 4,
 "nbformat_minor": 2
}
