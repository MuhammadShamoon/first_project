{
 "cells": [
  {
   "cell_type": "code",
   "execution_count": 1,
   "metadata": {},
   "outputs": [
    {
     "name": "stdout",
     "output_type": "stream",
     "text": [
      "The Zen of Python, by Tim Peters\n",
      "\n",
      "Beautiful is better than ugly.\n",
      "Explicit is better than implicit.\n",
      "Simple is better than complex.\n",
      "Complex is better than complicated.\n",
      "Flat is better than nested.\n",
      "Sparse is better than dense.\n",
      "Readability counts.\n",
      "Special cases aren't special enough to break the rules.\n",
      "Although practicality beats purity.\n",
      "Errors should never pass silently.\n",
      "Unless explicitly silenced.\n",
      "In the face of ambiguity, refuse the temptation to guess.\n",
      "There should be one-- and preferably only one --obvious way to do it.\n",
      "Although that way may not be obvious at first unless you're Dutch.\n",
      "Now is better than never.\n",
      "Although never is often better than *right* now.\n",
      "If the implementation is hard to explain, it's a bad idea.\n",
      "If the implementation is easy to explain, it may be a good idea.\n",
      "Namespaces are one honking great idea -- let's do more of those!\n"
     ]
    },
    {
     "name": "stderr",
     "output_type": "stream",
     "text": [
      "C:\\ProgramData\\Anaconda3\\lib\\site-packages\\ipykernel\\parentpoller.py:116: UserWarning: Parent poll failed.  If the frontend dies,\n",
      "                the kernel may be left running.  Please let us know\n",
      "                about your system (bitness, Python, etc.) at\n",
      "                ipython-dev@scipy.org\n",
      "  ipython-dev@scipy.org\"\"\")\n"
     ]
    }
   ],
   "source": [
    "import this"
   ]
  },
  {
   "cell_type": "code",
   "execution_count": null,
   "metadata": {},
   "outputs": [],
   "source": [
    "A=[4,5,2,1]\n",
    "n=len(A)\n",
    "for i range(n-1):\n",
    "    if A[i]>A[i+1]:\n",
    "        A[i],A[i+1]=A[i+1],A[i]\n",
    "        \n",
    "    \n"
   ]
  },
  {
   "cell_type": "code",
   "execution_count": null,
   "metadata": {},
   "outputs": [],
   "source": [
    "def merge(A,first,middle,last):\n",
    "    L=A[]\n",
    "    R=A[]"
   ]
  },
  {
   "cell_type": "code",
   "execution_count": 7,
   "metadata": {},
   "outputs": [
    {
     "name": "stdout",
     "output_type": "stream",
     "text": [
      "[5, 4, 3, 2, 1]\n",
      "[1, 2, 3, 4, 5]\n"
     ]
    }
   ],
   "source": [
    "def merge_sort(array):\n",
    "\n",
    "    if len(array) <= 1:\n",
    "        return array\n",
    "\n",
    "    midpoint = int(len(array) / 2)\n",
    "\n",
    "    left, right = merge_sort(array[:midpoint]), merge_sort(array[midpoint:])\n",
    "\n",
    "    return merge(left, right)\n",
    "\n",
    "\n",
    "def merge(left, right):\n",
    "\n",
    "    result = []\n",
    "    i = j = 0\n",
    "\n",
    "    while i < len(left) and j < len(right):\n",
    "\n",
    "        if left[i] < right[j]:\n",
    "\n",
    "            result.append(left[i])\n",
    "            i += 1\n",
    "\n",
    "        else:\n",
    "\n",
    "            result.append(right[j])\n",
    "            j += 1\n",
    "\n",
    "    result.extend(left[i:])\n",
    "    result.extend(right[j:])\n",
    "\n",
    "    return result\n",
    "\n",
    "\n",
    "def main():\n",
    "    array = [5, 4, 3, 2, 1]\n",
    "    print(array)\n",
    "\n",
    "    result = merge_sort(array)\n",
    "    print(result)\n",
    "\n",
    "if __name__ == \"__main__\":\n",
    "    main()"
   ]
  },
  {
   "cell_type": "code",
   "execution_count": 3,
   "metadata": {},
   "outputs": [
    {
     "name": "stdout",
     "output_type": "stream",
     "text": [
      "[1, 2, 3, 4]\n"
     ]
    }
   ],
   "source": [
    "def merge(left,right):\n",
    "\tresult = []\n",
    "\ti,j = 0, 0\n",
    "\twhile i<len(left) and j< len(right):\n",
    "\t\tif left[i] <= right[j]:\n",
    "\t\t\tresult.append(left[i])\n",
    "\t\t\ti+=1\n",
    "\t\telse:\n",
    "\t\t\tresult.append(right[j])\n",
    "\t\t\tj+=1\n",
    "\n",
    "\tresult += left[i:]\n",
    "\tresult += right[j:]\n",
    "\treturn result\n",
    "\n",
    "\n",
    "def mergesort(lst):\n",
    "\tif(len(lst) <= 1):\n",
    "\t\treturn lst\n",
    "\tmid = int(len(lst)/2)\n",
    "\tleft = mergesort(lst[:mid])\n",
    "\tright = mergesort(lst[mid:])\n",
    "\treturn merge(left,right)\n",
    "\n",
    "\n",
    "arr = [3,4,1,2]\n",
    "print(mergesort(arr))\n"
   ]
  },
  {
   "cell_type": "code",
   "execution_count": null,
   "metadata": {},
   "outputs": [],
   "source": [
    "def merge(left,right):\n",
    "    result[]\n",
    "    i,j,k=0\n",
    "    while int(len(arr))>=int(len(result)):\n",
    "        if left[i]<right[j]:\n",
    "            result.append(left[i])\n",
    "            i+=1\n",
    "        else:\n",
    "            result.append(right[j])\n",
    "            j+=1\n",
    "def mergesort(lst):\n",
    "    if(len(lst)<=1):\n",
    "        return lst\n",
    "    mid= int(len(lst)/2)\n",
    "    left=mergesort(lst[:mid])\n",
    "    right=mergesort(lst[mid:])\n",
    "    return merge(left,right) \n",
    "\n",
    "\n",
    "arr=[4,3,2,1]\n",
    "print(mergesort(arr))"
   ]
  },
  {
   "cell_type": "code",
   "execution_count": null,
   "metadata": {},
   "outputs": [],
   "source": []
  },
  {
   "cell_type": "code",
   "execution_count": null,
   "metadata": {},
   "outputs": [],
   "source": []
  },
  {
   "cell_type": "code",
   "execution_count": null,
   "metadata": {},
   "outputs": [],
   "source": []
  },
  {
   "cell_type": "code",
   "execution_count": null,
   "metadata": {},
   "outputs": [],
   "source": []
  },
  {
   "cell_type": "code",
   "execution_count": null,
   "metadata": {},
   "outputs": [],
   "source": []
  },
  {
   "cell_type": "code",
   "execution_count": null,
   "metadata": {},
   "outputs": [],
   "source": []
  },
  {
   "cell_type": "code",
   "execution_count": null,
   "metadata": {},
   "outputs": [],
   "source": []
  }
 ],
 "metadata": {
  "kernelspec": {
   "display_name": "Python 3",
   "language": "python",
   "name": "python3"
  },
  "language_info": {
   "codemirror_mode": {
    "name": "ipython",
    "version": 3
   },
   "file_extension": ".py",
   "mimetype": "text/x-python",
   "name": "python",
   "nbconvert_exporter": "python",
   "pygments_lexer": "ipython3",
   "version": "3.7.0"
  }
 },
 "nbformat": 4,
 "nbformat_minor": 2
}
