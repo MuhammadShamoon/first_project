{
 "cells": [
  {
   "cell_type": "code",
   "execution_count": 12,
   "metadata": {},
   "outputs": [],
   "source": [
    "class Account():\n",
    "    def __init__(self, name, NIC, account_number, initial_balance):\n",
    "        self.name = input('enter your name')\n",
    "        self.NIC = input('enter your NIC')\n",
    "        self.account_number = input('enter costumer account number')\n",
    "        self.initial_balance = input('enter costumer initial balance')\n",
    "        self.current_balance = self.initial_balance\n",
    "    def balance_increment(self, credit):\n",
    "        self.current_balance += credit\n",
    "    def account_details(self):\n",
    "        print('account name = '+ self.name)\n",
    "        print('NIC number = ', self.NIC)\n",
    "        print('account number = ', self.account_number)\n",
    "        print('current account balanc+e = '+ self.current_balance)\n"
   ]
  },
  {
   "cell_type": "code",
   "execution_count": 18,
   "metadata": {},
   "outputs": [
    {
     "name": "stdout",
     "output_type": "stream",
     "text": [
      "enter your nameshamoon\n",
      "enter your NIC65165465\n",
      "enter costumer account number34654665\n",
      "enter costumer initial balance361564135\n"
     ]
    }
   ],
   "source": [
    "name=\"\"\n",
    "NIC=\"\"\n",
    "account_number=\"\"\n",
    "initial_balance=\"\"\n",
    "my_acc1 = Account(name, NIC, account_number, initial_balance)"
   ]
  },
  {
   "cell_type": "code",
   "execution_count": 15,
   "metadata": {},
   "outputs": [
    {
     "name": "stdout",
     "output_type": "stream",
     "text": [
      "enter your namehasan\n",
      "enter your NIC123456\n",
      "enter costumer account number3268\n",
      "enter costumer initial balance0\n"
     ]
    }
   ],
   "source": [
    "my_acc2 = Account(name, NIC, account_number, initial_balance)"
   ]
  },
  {
   "cell_type": "code",
   "execution_count": 16,
   "metadata": {},
   "outputs": [
    {
     "name": "stdout",
     "output_type": "stream",
     "text": [
      "enter your nameumer\n",
      "enter your NIC3216545\n",
      "enter costumer account number321565465\n",
      "enter costumer initial balance1\n"
     ]
    }
   ],
   "source": [
    "my_acc3 = Account(name, NIC, account_number, initial_balance)"
   ]
  },
  {
   "cell_type": "code",
   "execution_count": 28,
   "metadata": {},
   "outputs": [],
   "source": [
    "bank=[my_acc1,my_acc2,my_acc3]\n"
   ]
  },
  {
   "cell_type": "code",
   "execution_count": 29,
   "metadata": {},
   "outputs": [],
   "source": [
    "def name_sort(A):\n",
    "    for i in range(len(A)-1):\n",
    "        for j in range(len(A)-1,i,-1):\n",
    "            if A[j].name<A[j-1].name:\n",
    "                A[j],A[j-1]=A[j-1],A[j]\n",
    "    return A            "
   ]
  },
  {
   "cell_type": "code",
   "execution_count": 30,
   "metadata": {},
   "outputs": [
    {
     "data": {
      "text/plain": [
       "[<__main__.Account at 0x2b89d36d198>,\n",
       " <__main__.Account at 0x2b89d36dbe0>,\n",
       " <__main__.Account at 0x2b89d36d400>]"
      ]
     },
     "execution_count": 30,
     "metadata": {},
     "output_type": "execute_result"
    }
   ],
   "source": [
    "name_sort(bank)"
   ]
  },
  {
   "cell_type": "code",
   "execution_count": 31,
   "metadata": {},
   "outputs": [
    {
     "name": "stdout",
     "output_type": "stream",
     "text": [
      "account name = hasan\n",
      "NIC number =  123456\n",
      "account number =  3268\n",
      "current account balanc+e = 0\n",
      "account name = shamoon\n",
      "NIC number =  65165465\n",
      "account number =  34654665\n",
      "current account balanc+e = 361564135\n",
      "account name = umer\n",
      "NIC number =  3216545\n",
      "account number =  321565465\n",
      "current account balanc+e = 1\n"
     ]
    }
   ],
   "source": [
    "for i in bank:\n",
    "    i.account_details()"
   ]
  },
  {
   "cell_type": "code",
   "execution_count": 33,
   "metadata": {},
   "outputs": [],
   "source": [
    "def balance_sort(A):\n",
    "    for i in range(len(A)-1):\n",
    "        for j in range(len(A)-1,i,-1):\n",
    "            if A[j].current_balance<A[j-1].current_balance:\n",
    "                A[j],A[j-1]=A[j-1],A[j]\n",
    "    return A   "
   ]
  },
  {
   "cell_type": "code",
   "execution_count": 34,
   "metadata": {},
   "outputs": [
    {
     "data": {
      "text/plain": [
       "[<__main__.Account at 0x2b89d36d198>,\n",
       " <__main__.Account at 0x2b89d36d400>,\n",
       " <__main__.Account at 0x2b89d36dbe0>]"
      ]
     },
     "execution_count": 34,
     "metadata": {},
     "output_type": "execute_result"
    }
   ],
   "source": [
    "balance_sort(bank)"
   ]
  },
  {
   "cell_type": "code",
   "execution_count": 35,
   "metadata": {},
   "outputs": [
    {
     "name": "stdout",
     "output_type": "stream",
     "text": [
      "account name = hasan\n",
      "NIC number =  123456\n",
      "account number =  3268\n",
      "current account balanc+e = 0\n",
      "account name = umer\n",
      "NIC number =  3216545\n",
      "account number =  321565465\n",
      "current account balanc+e = 1\n",
      "account name = shamoon\n",
      "NIC number =  65165465\n",
      "account number =  34654665\n",
      "current account balanc+e = 361564135\n"
     ]
    }
   ],
   "source": [
    "for i in bank:\n",
    "    i.account_details()"
   ]
  }
 ],
 "metadata": {
  "kernelspec": {
   "display_name": "Python 3",
   "language": "python",
   "name": "python3"
  },
  "language_info": {
   "codemirror_mode": {
    "name": "ipython",
    "version": 3
   },
   "file_extension": ".py",
   "mimetype": "text/x-python",
   "name": "python",
   "nbconvert_exporter": "python",
   "pygments_lexer": "ipython3",
   "version": "3.7.0"
  }
 },
 "nbformat": 4,
 "nbformat_minor": 2
}
