{
 "cells": [
  {
   "cell_type": "code",
   "execution_count": 12,
   "metadata": {},
   "outputs": [],
   "source": [
    "def insert_sort(seq):\n",
    "    for w in range(1,len(seq)):\n",
    "        key=seq[w]\n",
    "        j=w-1\n",
    "        while j>-1 and seq[j]>key:\n",
    "            seq[j+1]=seq[j]\n",
    "            j=j-1\n",
    "        seq[j+1]=key\n",
    "    return seq   \n"
   ]
  },
  {
   "cell_type": "code",
   "execution_count": 13,
   "metadata": {},
   "outputs": [],
   "source": [
    "import time as ti"
   ]
  },
  {
   "cell_type": "code",
   "execution_count": 14,
   "metadata": {},
   "outputs": [],
   "source": [
    "a=ti.time();p=insert_sort(list(range(10000,1,-1)));b=ti.time();c= b-a"
   ]
  },
  {
   "cell_type": "code",
   "execution_count": 15,
   "metadata": {},
   "outputs": [
    {
     "data": {
      "text/plain": [
       "10.5318443775177"
      ]
     },
     "execution_count": 15,
     "metadata": {},
     "output_type": "execute_result"
    }
   ],
   "source": [
    "c"
   ]
  },
  {
   "cell_type": "code",
   "execution_count": 16,
   "metadata": {},
   "outputs": [],
   "source": [
    "a=ti.time();p=insert_sort(list(range(5000,1,-1)));b=ti.time();d= b-a"
   ]
  },
  {
   "cell_type": "code",
   "execution_count": 17,
   "metadata": {},
   "outputs": [
    {
     "data": {
      "text/plain": [
       "2.6697840690612793"
      ]
     },
     "execution_count": 17,
     "metadata": {},
     "output_type": "execute_result"
    }
   ],
   "source": [
    "d"
   ]
  },
  {
   "cell_type": "code",
   "execution_count": 7,
   "metadata": {},
   "outputs": [],
   "source": [
    "\n",
    "\n",
    "\n",
    "def insert_sort(seq):\n",
    "    for w in range(1,len(seq)):\n",
    "        key=seq[w]\n",
    "        j=w-1\n",
    "        while j>-1 and seq[j]>key:\n",
    "            seq[j+1]=seq[j]\n",
    "            j=j-1\n",
    "        seq[j+1]=key\n",
    "    return seq  \n",
    "def merge(left, right):\n",
    "\n",
    "    result = []\n",
    "    i = j = 0\n",
    "\n",
    "    while i < len(left) and j < len(right):\n",
    "\n",
    "        if left[i] < right[j]:\n",
    "\n",
    "            result.append(left[i])\n",
    "            i += 1\n",
    "\n",
    "        else:\n",
    "\n",
    "            result.append(right[j])\n",
    "            j += 1\n",
    "\n",
    "    result.extend(left[i:])\n",
    "    result.extend(right[j:])\n",
    "\n",
    "    return result\n",
    "\n",
    "def merge_sort(array):\n",
    "    \n",
    "    midpoint = int(len(array) / 2)\n",
    "\n",
    "    left, right = array[:midpoint],array[midpoint:])\n",
    "\n",
    "    right = insert_sort(right)\n",
    "    left = insert_sort(left)\n",
    "    return merge(right,left)   \n"
   ]
  },
  {
   "cell_type": "code",
   "execution_count": null,
   "metadata": {},
   "outputs": [],
   "source": []
  },
  {
   "cell_type": "code",
   "execution_count": 8,
   "metadata": {},
   "outputs": [
    {
     "data": {
      "text/plain": [
       "5.349639654159546"
      ]
     },
     "execution_count": 8,
     "metadata": {},
     "output_type": "execute_result"
    }
   ],
   "source": [
    "import time as ti\n",
    "\n",
    "a=ti.time();p=merge_sort(list(range(10000,1,-1)));b=ti.time();c= b-a\n",
    "c"
   ]
  }
 ],
 "metadata": {
  "kernelspec": {
   "display_name": "Python 3",
   "language": "python",
   "name": "python3"
  },
  "language_info": {
   "codemirror_mode": {
    "name": "ipython",
    "version": 3
   },
   "file_extension": ".py",
   "mimetype": "text/x-python",
   "name": "python",
   "nbconvert_exporter": "python",
   "pygments_lexer": "ipython3",
   "version": "3.7.0"
  }
 },
 "nbformat": 4,
 "nbformat_minor": 2
}
