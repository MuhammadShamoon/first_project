{
 "cells": [
  {
   "cell_type": "markdown",
   "metadata": {},
   "source": [
    "x=03\n",
    "while x < 10:\n",
    "    print(x)\n",
    "    x+=1;\n"
   ]
  },
  {
   "cell_type": "code",
   "execution_count": 13,
   "metadata": {},
   "outputs": [
    {
     "name": "stdout",
     "output_type": "stream",
     "text": [
      "0\n",
      "1\n",
      "2\n",
      "3\n",
      "4\n",
      "5\n",
      "6\n",
      "7\n",
      "8\n",
      "9\n"
     ]
    }
   ],
   "source": [
    "for x in range(10):\n",
    "    print(x);"
   ]
  },
  {
   "cell_type": "code",
   "execution_count": 35,
   "metadata": {},
   "outputs": [
    {
     "name": "stdout",
     "output_type": "stream",
     "text": [
      "enter no.5\n",
      "* * * * "
     ]
    }
   ],
   "source": [
    "num=int(input('enter no.'))\n",
    "for y in range(0,a):\n",
    "    for z in range(1):\n",
    "        print('*',end=' ');"
   ]
  },
  {
   "cell_type": "code",
   "execution_count": 17,
   "metadata": {},
   "outputs": [
    {
     "name": "stdout",
     "output_type": "stream",
     "text": [
      " \n",
      " \n",
      " \n",
      " \n",
      " \n",
      "*\n",
      "*\n",
      "*\n",
      "*\n",
      "*\n",
      "\n",
      "\n",
      " \n",
      " \n",
      " \n",
      " \n",
      " \n",
      "*\n",
      "*\n",
      "*\n",
      "*\n",
      "*\n",
      "\n",
      "\n",
      " \n",
      " \n",
      " \n",
      " \n",
      " \n",
      "*\n",
      "*\n",
      "*\n",
      "*\n",
      "*\n",
      "\n",
      "\n",
      " \n",
      " \n",
      " \n",
      " \n",
      " \n",
      "*\n",
      "*\n",
      "*\n",
      "*\n",
      "*\n",
      "\n",
      "\n",
      " \n",
      " \n",
      " \n",
      " \n",
      " \n",
      "*\n",
      "*\n",
      "*\n",
      "*\n",
      "*\n",
      "\n",
      "\n",
      " \n",
      " \n",
      " \n",
      " \n",
      " \n",
      "*\n",
      "*\n",
      "*\n",
      "*\n",
      "*\n",
      "\n",
      "\n",
      " \n",
      " \n",
      " \n",
      " \n",
      " \n",
      "*\n",
      "*\n",
      "*\n",
      "*\n",
      "*\n",
      "\n",
      "\n",
      " \n",
      " \n",
      " \n",
      " \n",
      " \n",
      "*\n",
      "*\n",
      "*\n",
      "*\n",
      "*\n",
      "\n",
      "\n",
      " \n",
      " \n",
      " \n",
      " \n",
      " \n",
      "*\n",
      "*\n",
      "*\n",
      "*\n",
      "*\n",
      "\n",
      "\n",
      " \n",
      " \n",
      " \n",
      " \n",
      " \n",
      "*\n",
      "*\n",
      "*\n",
      "*\n",
      "*\n",
      "\n",
      "\n"
     ]
    }
   ],
   "source": [
    "for i in range(5):\n",
    "    for j in range(5):\n",
    "        print(' ');\n",
    "    for k in range(5):\n",
    "        print('*');\n",
    "    print('\\n');\n",
    "for l in range(5):\n",
    "    for m in range(5):\n",
    "        print(' ');\n",
    "    for n in range(5):\n",
    "        print('*');\n",
    "    print('\\n')    "
   ]
  },
  {
   "cell_type": "code",
   "execution_count": 21,
   "metadata": {},
   "outputs": [
    {
     "name": "stdout",
     "output_type": "stream",
     "text": [
      "*\n",
      "*\n",
      "*\n",
      "*\n",
      "*\n",
      " \n",
      "*\n",
      "*\n",
      "*\n",
      "*\n",
      "*\n",
      " \n",
      "*\n",
      "*\n",
      "*\n",
      "*\n",
      "*\n",
      " \n",
      "*\n",
      "*\n",
      "*\n",
      "*\n",
      "*\n",
      " \n",
      "*\n",
      "*\n",
      "*\n",
      "*\n",
      "*\n",
      " \n"
     ]
    }
   ],
   "source": [
    "for a in range(5):\n",
    "    for a in range(5):\n",
    "        print('*');\n",
    "    print(' ');\n"
   ]
  },
  {
   "cell_type": "code",
   "execution_count": 36,
   "metadata": {},
   "outputs": [
    {
     "ename": "ModuleNotFoundError",
     "evalue": "No module named 'largest'",
     "output_type": "error",
     "traceback": [
      "\u001b[1;31m---------------------------------------------------------------------------\u001b[0m",
      "\u001b[1;31mModuleNotFoundError\u001b[0m                       Traceback (most recent call last)",
      "\u001b[1;32m<ipython-input-36-2909eebfbbf3>\u001b[0m in \u001b[0;36m<module>\u001b[1;34m()\u001b[0m\n\u001b[1;32m----> 1\u001b[1;33m \u001b[1;32mimport\u001b[0m \u001b[0mlargest\u001b[0m\u001b[1;33m\u001b[0m\u001b[0m\n\u001b[0m",
      "\u001b[1;31mModuleNotFoundError\u001b[0m: No module named 'largest'"
     ]
    }
   ],
   "source": [
    "import largest"
   ]
  },
  {
   "cell_type": "code",
   "execution_count": 1,
   "metadata": {},
   "outputs": [
    {
     "name": "stdout",
     "output_type": "stream",
     "text": [
      "The Zen of Python, by Tim Peters\n",
      "\n",
      "Beautiful is better than ugly.\n",
      "Explicit is better than implicit.\n",
      "Simple is better than complex.\n",
      "Complex is better than complicated.\n",
      "Flat is better than nested.\n",
      "Sparse is better than dense.\n",
      "Readability counts.\n",
      "Special cases aren't special enough to break the rules.\n",
      "Although practicality beats purity.\n",
      "Errors should never pass silently.\n",
      "Unless explicitly silenced.\n",
      "In the face of ambiguity, refuse the temptation to guess.\n",
      "There should be one-- and preferably only one --obvious way to do it.\n",
      "Although that way may not be obvious at first unless you're Dutch.\n",
      "Now is better than never.\n",
      "Although never is often better than *right* now.\n",
      "If the implementation is hard to explain, it's a bad idea.\n",
      "If the implementation is easy to explain, it may be a good idea.\n",
      "Namespaces are one honking great idea -- let's do more of those!\n"
     ]
    }
   ],
   "source": [
    "import this"
   ]
  },
  {
   "cell_type": "code",
   "execution_count": 49,
   "metadata": {},
   "outputs": [],
   "source": [
    "import this"
   ]
  },
  {
   "cell_type": "code",
   "execution_count": 50,
   "metadata": {},
   "outputs": [],
   "source": [
    "import this"
   ]
  },
  {
   "cell_type": "code",
   "execution_count": 51,
   "metadata": {},
   "outputs": [
    {
     "data": {
      "text/plain": [
       "4"
      ]
     },
     "execution_count": 51,
     "metadata": {},
     "output_type": "execute_result"
    }
   ],
   "source": [
    "2+2"
   ]
  },
  {
   "cell_type": "code",
   "execution_count": 1,
   "metadata": {},
   "outputs": [
    {
     "name": "stdout",
     "output_type": "stream",
     "text": [
      "how many no. you want to process50\n",
      "enter element number:  0\n",
      "17\n",
      "enter element number:  1\n",
      "20\n",
      "enter element number:  2\n",
      "10\n",
      "enter element number:  3\n",
      "9\n",
      "enter element number:  4\n",
      "23\n",
      "enter element number:  5\n",
      "13\n",
      "enter element number:  6\n",
      "12\n",
      "enter element number:  7\n",
      "19\n",
      "enter element number:  8\n",
      "18\n",
      "enter element number:  9\n",
      "24\n",
      "enter element number:  10\n",
      "12\n",
      "enter element number:  11\n",
      "14\n",
      "enter element number:  12\n",
      "6\n",
      "enter element number:  13\n",
      "9\n",
      "enter element number:  14\n",
      "13\n",
      "enter element number:  15\n",
      "6\n",
      "enter element number:  16\n",
      "7\n",
      "enter element number:  17\n",
      "10\n",
      "enter element number:  18\n",
      "13\n",
      "enter element number:  19\n",
      "7\n",
      "enter element number:  20\n",
      "16\n",
      "enter element number:  21\n",
      "18\n",
      "enter element number:  22\n",
      "8\n",
      "enter element number:  23\n",
      "13\n",
      "enter element number:  24\n",
      "3\n",
      "enter element number:  25\n",
      "32\n",
      "enter element number:  26\n",
      "9\n",
      "enter element number:  27\n",
      "7\n",
      "enter element number:  28\n",
      "10\n",
      "enter element number:  29\n",
      "11\n",
      "enter element number:  30\n",
      "13\n",
      "enter element number:  31\n",
      "7\n",
      "enter element number:  32\n",
      "18\n",
      "enter element number:  33\n",
      "7\n",
      "enter element number:  34\n",
      "10\n",
      "enter element number:  35\n",
      "4\n",
      "enter element number:  36\n",
      "27\n",
      "enter element number:  37\n",
      "19\n",
      "enter element number:  38\n",
      "16\n",
      "enter element number:  39\n",
      "8\n",
      "enter element number:  40\n",
      "7\n",
      "enter element number:  41\n",
      "10\n",
      "enter element number:  42\n",
      "5\n",
      "enter element number:  43\n",
      "14\n",
      "enter element number:  44\n",
      "15\n",
      "enter element number:  45\n",
      "10\n",
      "enter element number:  46\n",
      "9\n",
      "enter element number:  47\n",
      "6\n",
      "enter element number:  48\n",
      "7\n",
      "enter element number:  49\n",
      "15\n",
      "[3, 4, 5, 6, 6, 6, 7, 7, 7, 7, 7, 7, 7, 8, 8, 9, 9, 9, 9, 10, 10, 10, 10, 10, 10, 11, 12, 12, 13, 13, 13, 13, 13, 14, 14, 15, 15, 16, 16, 17, 18, 18, 18, 19, 19, 20, 23, 24, 27, 32]\n"
     ]
    }
   ],
   "source": [
    "num=[]\n",
    "n=int(input(\"how many no. you want to process\"))\n",
    "for l in range(n):\n",
    "    print(\"enter element number: \",l)\n",
    "    num.insert(l,int(input(\"\")))\n",
    "for j in range(1,n):\n",
    "    key=num[j]\n",
    "    i=j-1\n",
    "    while (i>=0) and num[i]>key:\n",
    "        num[i+1]=num[i]\n",
    "        i=i-1\n",
    "        num[i+1]=key\n",
    "print(num)        \n",
    "    \n",
    "    "
   ]
  },
  {
   "cell_type": "code",
   "execution_count": null,
   "metadata": {},
   "outputs": [],
   "source": [
    "num1= int(input(enter num 1 : ))\n",
    "num2=int(input(enter num 2 : ))\n",
    "num3=int(input(enter num 3 : ))\n",
    "if num1 > num2:\n",
    "    maxim="
   ]
  },
  {
   "cell_type": "code",
   "execution_count": 20,
   "metadata": {},
   "outputs": [
    {
     "name": "stdout",
     "output_type": "stream",
     "text": [
      "enter a no.5\n",
      "False\n"
     ]
    }
   ],
   "source": [
    "x=int(input(\"enter a no.\"))\n",
    "print(x>10)"
   ]
  },
  {
   "cell_type": "code",
   "execution_count": 23,
   "metadata": {},
   "outputs": [
    {
     "name": "stdout",
     "output_type": "stream",
     "text": [
      "enter you percentage in number :70\n",
      "congratrates! you are pass\n"
     ]
    }
   ],
   "source": [
    "per=int(input(\"enter you percentage in number :\"))\n",
    "if per>=60:\n",
    "    print('congratrates! you are pass')\n",
    "else:\n",
    "    print('ups! you are fail')\n"
   ]
  },
  {
   "cell_type": "code",
   "execution_count": 30,
   "metadata": {},
   "outputs": [
    {
     "name": "stdout",
     "output_type": "stream",
     "text": [
      "enter you percentage in number :79\n",
      "congrates! your grade is :  A\n"
     ]
    }
   ],
   "source": [
    "per=int(input(\"enter you percentage in number :\"))\n",
    "if per>=80:\n",
    "    grade='A+'\n",
    "elif per>=70:\n",
    "    grade='A'\n",
    "elif per>=60:\n",
    "    grade='B' \n",
    "else:\n",
    "    grade='-'\n",
    "    print('ups! you are fail')\n",
    "print('congrates! your grade is : ',grade)        "
   ]
  },
  {
   "cell_type": "code",
   "execution_count": 2,
   "metadata": {},
   "outputs": [
    {
     "name": "stdout",
     "output_type": "stream",
     "text": [
      "[1, 2, 3, 4, 5, 6]\n"
     ]
    }
   ],
   "source": [
    "A=[5,2,4,6,1,3]\n",
    "n=len(A)\n",
    "for i in range(0,n-1):\n",
    "    minimum=i\n",
    "    j=i+1\n",
    "    for k in range(j,n):\n",
    "        if A[k]<A[minimum]:\n",
    "            minimum=k\n",
    "    temp=A[minimum]\n",
    "    A[minimum]=A[i]\n",
    "    A[i]=temp\n",
    "    \n",
    "print (A)"
   ]
  },
  {
   "cell_type": "code",
   "execution_count": null,
   "metadata": {},
   "outputs": [],
   "source": [
    "A=[5,2,4,6,1,3]\n",
    "#n=int(input(\"how many no. you want to process\"))\n",
    "#for l in range(n):\n",
    " #   print(\"enter element number: \",l)\n",
    "  #  num.insert(l,int(input(\"\")))\n",
    "n=len(A)\n",
    "for i in range(0,n-1):\n",
    "    minimum=i\n",
    "    j=i+1\n",
    "    for k in range(j,n):\n",
    "        if A[k]<A[minimum]:\n",
    "            minimum=k\n",
    "    temp=A[minimum]\n",
    "    A[minimum]=A[i]\n",
    "    A[i]=temp\n",
    "    \n",
    "print (A)"
   ]
  },
  {
   "cell_type": "code",
   "execution_count": 6,
   "metadata": {},
   "outputs": [],
   "source": [
    "A=[5,2,4,6,1,3]\n",
    "n=len(A)\n",
    "for i in range(0,n-1):\n",
    "    for k in range(n,i+1):\n",
    "        if A[k]<A[k-1]:\n",
    "            temp=A[minimum]\n",
    "            A[minimum]=A[i]\n",
    "            A[i]=temp\n",
    "    "
   ]
  },
  {
   "cell_type": "code",
   "execution_count": null,
   "metadata": {},
   "outputs": [],
   "source": []
  },
  {
   "cell_type": "code",
   "execution_count": 1,
   "metadata": {},
   "outputs": [
    {
     "name": "stdout",
     "output_type": "stream",
     "text": [
      "[1, 2, 3, 4]\n"
     ]
    }
   ],
   "source": [
    "def insert_sort(seq):\n",
    "    for w in range(1,len(seq)):\n",
    "        key=seq[w]\n",
    "        j=w-1\n",
    "        while j>-1 and seq[j]>key:\n",
    "            seq[j+1]=seq[j]\n",
    "            j=j-1\n",
    "        seq[j+1]=key\n",
    "    return seq   \n",
    "arr = [3,4,1,2]\n",
    "print(insert_sort(arr))"
   ]
  },
  {
   "cell_type": "code",
   "execution_count": 6,
   "metadata": {},
   "outputs": [],
   "source": [
    "def bubble_sort(A):\n",
    "    for i in range(len(A)-1):\n",
    "        for j in range(len(A)-1,i,-1):\n",
    "            if A[j]<A[j-1]:\n",
    "                A[j],A[j-1]=A[j-1],A[j]\n",
    "                "
   ]
  },
  {
   "cell_type": "code",
   "execution_count": 9,
   "metadata": {},
   "outputs": [],
   "source": [
    "def select_sort(lst):\n",
    "    for i in range(len(lst)):\n",
    "        min_val_pos=i\n",
    "        for j in range(i+1,len(lst)):\n",
    "            if lst[min_val_pos]>lst[j]:\n",
    "                min_val_pos=1\n",
    "        temp=lst[i]\n",
    "        lst[i]=lst[min_val_pos]\n",
    "        lst[min_val_pos]=temp\n",
    "    return lst    "
   ]
  },
  {
   "cell_type": "code",
   "execution_count": 10,
   "metadata": {},
   "outputs": [],
   "source": [
    "import time as ti"
   ]
  },
  {
   "cell_type": "code",
   "execution_count": 13,
   "metadata": {},
   "outputs": [],
   "source": [
    "a=ti.time();p=insert_sort(list(range(10000,1,-1)));b=ti.time();c= b-a"
   ]
  },
  {
   "cell_type": "code",
   "execution_count": 14,
   "metadata": {},
   "outputs": [
    {
     "data": {
      "text/plain": [
       "11.219351768493652"
      ]
     },
     "execution_count": 14,
     "metadata": {},
     "output_type": "execute_result"
    }
   ],
   "source": [
    "c"
   ]
  },
  {
   "cell_type": "code",
   "execution_count": 20,
   "metadata": {},
   "outputs": [],
   "source": [
    "a=ti.time();p=bubble_sort(list(range(10000,1,-1)));b=ti.time();c=b-a"
   ]
  },
  {
   "cell_type": "code",
   "execution_count": 21,
   "metadata": {},
   "outputs": [
    {
     "data": {
      "text/plain": [
       "18.558889150619507"
      ]
     },
     "execution_count": 21,
     "metadata": {},
     "output_type": "execute_result"
    }
   ],
   "source": [
    "c"
   ]
  },
  {
   "cell_type": "code",
   "execution_count": 22,
   "metadata": {},
   "outputs": [],
   "source": [
    "a=ti.time();p=select_sort(list(range(10000,1,-1)));b=ti.time();c=b-a"
   ]
  },
  {
   "cell_type": "code",
   "execution_count": 7,
   "metadata": {},
   "outputs": [
    {
     "ename": "NameError",
     "evalue": "name 'c' is not defined",
     "output_type": "error",
     "traceback": [
      "\u001b[1;31m---------------------------------------------------------------------------\u001b[0m",
      "\u001b[1;31mNameError\u001b[0m                                 Traceback (most recent call last)",
      "\u001b[1;32m<ipython-input-7-2b66fd261ee5>\u001b[0m in \u001b[0;36m<module>\u001b[1;34m()\u001b[0m\n\u001b[1;32m----> 1\u001b[1;33m \u001b[0mc\u001b[0m\u001b[1;33m\u001b[0m\u001b[0m\n\u001b[0m",
      "\u001b[1;31mNameError\u001b[0m: name 'c' is not defined"
     ]
    }
   ],
   "source": [
    "c"
   ]
  },
  {
   "cell_type": "code",
   "execution_count": 12,
   "metadata": {},
   "outputs": [
    {
     "name": "stdout",
     "output_type": "stream",
     "text": [
      "[1, 3, 5, 7, 9, 11]\n"
     ]
    }
   ],
   "source": [
    "from math import*\n",
    "B=[]\n",
    "A=[1,3,5,7,9,11]\n",
    "n=len(A)\n",
    "p=0\n",
    "q=int(n/2)\n",
    "r=n\n",
    "n1=q\n",
    "n2=r-q\n",
    "L=[]\n",
    "R=[]\n",
    "for i in range(n1):\n",
    "    L.append(A[p+i])\n",
    "for j in range (n2):\n",
    "    R.append(A[q+j])\n",
    "L.append(inf)\n",
    "R.append(inf)\n",
    "i=0\n",
    "j=0\n",
    "for k in range(r):\n",
    "    if L[i]<=R[j]:\n",
    "        B.append(L[i])\n",
    "        i+=1\n",
    "    else:\n",
    "        B.append(R[j])\n",
    "        j+=1\n",
    "print(B)        "
   ]
  },
  {
   "cell_type": "code",
   "execution_count": 1,
   "metadata": {},
   "outputs": [
    {
     "name": "stdout",
     "output_type": "stream",
     "text": [
      "True\n"
     ]
    }
   ],
   "source": [
    "import time \n",
    "def binarysearch(alist,item):\n",
    "    first = 0\n",
    "    last = len(alist)-1\n",
    "    found = False\n",
    "    while first <= last and not found :\n",
    "        midpoint = (first + last)//2\n",
    "        if alist[midpoint]==item:\n",
    "            found = True \n",
    "        else:\n",
    "            if item < alist[midpoint]:\n",
    "                last = midpoint - 1\n",
    "            else:\n",
    "                first = midpoint + 1\n",
    "    return found \n",
    "r = list(range(1,9))\n",
    "item = 7\n",
    "p=binarysearch(r,item)\n",
    "print(p)"
   ]
  },
  {
   "cell_type": "code",
   "execution_count": null,
   "metadata": {},
   "outputs": [],
   "source": [
    "import time \n",
    "def binarysort(alist,val):\n",
    "    first = 0 \n",
    "    last = len(alist)-1\n",
    "    while first <= last:\n",
    "        midpoint = (first + last)//2\n",
    "        if val < alist[midpoint]:\n",
    "            last = midpoint-1\n",
    "        else:\n",
    "            first = midpoint+1\n",
    "    l= alist[0:first]+[val]\n",
    "    r=alist[len(l)-1:len(alist)]\n",
    "    p=l+r\n",
    "    return p"
   ]
  },
  {
   "cell_type": "code",
   "execution_count": 1,
   "metadata": {},
   "outputs": [],
   "source": [
    "class Student():\n",
    "    pass"
   ]
  },
  {
   "cell_type": "code",
   "execution_count": 2,
   "metadata": {},
   "outputs": [],
   "source": [
    "a=Student()"
   ]
  },
  {
   "cell_type": "code",
   "execution_count": 3,
   "metadata": {},
   "outputs": [
    {
     "data": {
      "text/plain": [
       "__main__.Student"
      ]
     },
     "execution_count": 3,
     "metadata": {},
     "output_type": "execute_result"
    }
   ],
   "source": [
    "type(a)"
   ]
  },
  {
   "cell_type": "code",
   "execution_count": 6,
   "metadata": {},
   "outputs": [],
   "source": [
    "x=3"
   ]
  },
  {
   "cell_type": "code",
   "execution_count": 7,
   "metadata": {},
   "outputs": [
    {
     "data": {
      "text/plain": [
       "int"
      ]
     },
     "execution_count": 7,
     "metadata": {},
     "output_type": "execute_result"
    }
   ],
   "source": [
    "type(x)"
   ]
  },
  {
   "cell_type": "code",
   "execution_count": 8,
   "metadata": {},
   "outputs": [],
   "source": [
    "a.name='peter'"
   ]
  },
  {
   "cell_type": "code",
   "execution_count": 9,
   "metadata": {},
   "outputs": [
    {
     "data": {
      "text/plain": [
       "'peter'"
      ]
     },
     "execution_count": 9,
     "metadata": {},
     "output_type": "execute_result"
    }
   ],
   "source": [
    "a.name"
   ]
  },
  {
   "cell_type": "code",
   "execution_count": null,
   "metadata": {},
   "outputs": [],
   "source": []
  },
  {
   "cell_type": "code",
   "execution_count": 15,
   "metadata": {},
   "outputs": [],
   "source": [
    "Student.name='peter'\n"
   ]
  },
  {
   "cell_type": "code",
   "execution_count": 16,
   "metadata": {},
   "outputs": [
    {
     "data": {
      "text/plain": [
       "'peter'"
      ]
     },
     "execution_count": 16,
     "metadata": {},
     "output_type": "execute_result"
    }
   ],
   "source": [
    "Student.name"
   ]
  },
  {
   "cell_type": "code",
   "execution_count": null,
   "metadata": {},
   "outputs": [],
   "source": [
    "student "
   ]
  },
  {
   "cell_type": "code",
   "execution_count": 17,
   "metadata": {},
   "outputs": [
    {
     "data": {
      "text/plain": [
       "['__class__',\n",
       " '__delattr__',\n",
       " '__dict__',\n",
       " '__dir__',\n",
       " '__doc__',\n",
       " '__eq__',\n",
       " '__format__',\n",
       " '__ge__',\n",
       " '__getattribute__',\n",
       " '__gt__',\n",
       " '__hash__',\n",
       " '__init__',\n",
       " '__init_subclass__',\n",
       " '__le__',\n",
       " '__lt__',\n",
       " '__module__',\n",
       " '__ne__',\n",
       " '__new__',\n",
       " '__reduce__',\n",
       " '__reduce_ex__',\n",
       " '__repr__',\n",
       " '__setattr__',\n",
       " '__sizeof__',\n",
       " '__str__',\n",
       " '__subclasshook__',\n",
       " '__weakref__',\n",
       " 'name',\n",
       " 'roll']"
      ]
     },
     "execution_count": 17,
     "metadata": {},
     "output_type": "execute_result"
    }
   ],
   "source": [
    "dir(a)"
   ]
  },
  {
   "cell_type": "code",
   "execution_count": 18,
   "metadata": {},
   "outputs": [
    {
     "data": {
      "text/plain": [
       "['__abs__',\n",
       " '__add__',\n",
       " '__and__',\n",
       " '__bool__',\n",
       " '__ceil__',\n",
       " '__class__',\n",
       " '__delattr__',\n",
       " '__dir__',\n",
       " '__divmod__',\n",
       " '__doc__',\n",
       " '__eq__',\n",
       " '__float__',\n",
       " '__floor__',\n",
       " '__floordiv__',\n",
       " '__format__',\n",
       " '__ge__',\n",
       " '__getattribute__',\n",
       " '__getnewargs__',\n",
       " '__gt__',\n",
       " '__hash__',\n",
       " '__index__',\n",
       " '__init__',\n",
       " '__init_subclass__',\n",
       " '__int__',\n",
       " '__invert__',\n",
       " '__le__',\n",
       " '__lshift__',\n",
       " '__lt__',\n",
       " '__mod__',\n",
       " '__mul__',\n",
       " '__ne__',\n",
       " '__neg__',\n",
       " '__new__',\n",
       " '__or__',\n",
       " '__pos__',\n",
       " '__pow__',\n",
       " '__radd__',\n",
       " '__rand__',\n",
       " '__rdivmod__',\n",
       " '__reduce__',\n",
       " '__reduce_ex__',\n",
       " '__repr__',\n",
       " '__rfloordiv__',\n",
       " '__rlshift__',\n",
       " '__rmod__',\n",
       " '__rmul__',\n",
       " '__ror__',\n",
       " '__round__',\n",
       " '__rpow__',\n",
       " '__rrshift__',\n",
       " '__rshift__',\n",
       " '__rsub__',\n",
       " '__rtruediv__',\n",
       " '__rxor__',\n",
       " '__setattr__',\n",
       " '__sizeof__',\n",
       " '__str__',\n",
       " '__sub__',\n",
       " '__subclasshook__',\n",
       " '__truediv__',\n",
       " '__trunc__',\n",
       " '__xor__',\n",
       " 'bit_length',\n",
       " 'conjugate',\n",
       " 'denominator',\n",
       " 'from_bytes',\n",
       " 'imag',\n",
       " 'numerator',\n",
       " 'real',\n",
       " 'to_bytes']"
      ]
     },
     "execution_count": 18,
     "metadata": {},
     "output_type": "execute_result"
    }
   ],
   "source": [
    "dir(x)"
   ]
  },
  {
   "cell_type": "code",
   "execution_count": null,
   "metadata": {},
   "outputs": [],
   "source": []
  },
  {
   "cell_type": "code",
   "execution_count": null,
   "metadata": {},
   "outputs": [],
   "source": []
  },
  {
   "cell_type": "code",
   "execution_count": null,
   "metadata": {},
   "outputs": [],
   "source": []
  },
  {
   "cell_type": "code",
   "execution_count": 10,
   "metadata": {},
   "outputs": [],
   "source": [
    "a.roll=75"
   ]
  },
  {
   "cell_type": "code",
   "execution_count": 11,
   "metadata": {},
   "outputs": [
    {
     "data": {
      "text/plain": [
       "75"
      ]
     },
     "execution_count": 11,
     "metadata": {},
     "output_type": "execute_result"
    }
   ],
   "source": [
    "a.roll"
   ]
  },
  {
   "cell_type": "code",
   "execution_count": 38,
   "metadata": {},
   "outputs": [],
   "source": [
    "class Student():\n",
    "    def __init__(selfs,nam,cgpa,rol):\n",
    "        selfs.name=nam\n",
    "        selfs.cgpa=cgp\n",
    "        selfs.roll=rol\n",
    "    def name_print(selfs):\n",
    "        print(\"the name is \",selfs.name)\n",
    "    def cgpa_print(selfs):\n",
    "        print('the cgpa of',selfs.name,'is',selfs.cgpa)\n",
    "    def all_print(selfs):\n",
    "        print(selfs.name,'has roll#',selfs.roll,'and cgpa equal to',selfs.cgpa)"
   ]
  },
  {
   "cell_type": "code",
   "execution_count": 39,
   "metadata": {},
   "outputs": [
    {
     "ename": "NameError",
     "evalue": "name 'cgp' is not defined",
     "output_type": "error",
     "traceback": [
      "\u001b[1;31m---------------------------------------------------------------------------\u001b[0m",
      "\u001b[1;31mNameError\u001b[0m                                 Traceback (most recent call last)",
      "\u001b[1;32m<ipython-input-39-86b76da8728f>\u001b[0m in \u001b[0;36m<module>\u001b[1;34m()\u001b[0m\n\u001b[1;32m----> 1\u001b[1;33m \u001b[0ma\u001b[0m\u001b[1;33m=\u001b[0m\u001b[0mStudent\u001b[0m\u001b[1;33m(\u001b[0m\u001b[1;34m'peter'\u001b[0m\u001b[1;33m,\u001b[0m\u001b[1;36m3.5\u001b[0m\u001b[1;33m,\u001b[0m\u001b[1;36m166\u001b[0m\u001b[1;33m)\u001b[0m\u001b[1;33m\u001b[0m\u001b[0m\n\u001b[0m",
      "\u001b[1;32m<ipython-input-38-4e9149c1ce86>\u001b[0m in \u001b[0;36m__init__\u001b[1;34m(selfs, nam, cgpa, rol)\u001b[0m\n\u001b[0;32m      2\u001b[0m     \u001b[1;32mdef\u001b[0m \u001b[0m__init__\u001b[0m\u001b[1;33m(\u001b[0m\u001b[0mselfs\u001b[0m\u001b[1;33m,\u001b[0m\u001b[0mnam\u001b[0m\u001b[1;33m,\u001b[0m\u001b[0mcgpa\u001b[0m\u001b[1;33m,\u001b[0m\u001b[0mrol\u001b[0m\u001b[1;33m)\u001b[0m\u001b[1;33m:\u001b[0m\u001b[1;33m\u001b[0m\u001b[0m\n\u001b[0;32m      3\u001b[0m         \u001b[0mselfs\u001b[0m\u001b[1;33m.\u001b[0m\u001b[0mname\u001b[0m\u001b[1;33m=\u001b[0m\u001b[0mnam\u001b[0m\u001b[1;33m\u001b[0m\u001b[0m\n\u001b[1;32m----> 4\u001b[1;33m         \u001b[0mselfs\u001b[0m\u001b[1;33m.\u001b[0m\u001b[0mcgpa\u001b[0m\u001b[1;33m=\u001b[0m\u001b[0mcgp\u001b[0m\u001b[1;33m\u001b[0m\u001b[0m\n\u001b[0m\u001b[0;32m      5\u001b[0m         \u001b[0mselfs\u001b[0m\u001b[1;33m.\u001b[0m\u001b[0mroll\u001b[0m\u001b[1;33m=\u001b[0m\u001b[0mrol\u001b[0m\u001b[1;33m\u001b[0m\u001b[0m\n\u001b[0;32m      6\u001b[0m     \u001b[1;32mdef\u001b[0m \u001b[0mname_print\u001b[0m\u001b[1;33m(\u001b[0m\u001b[0mselfs\u001b[0m\u001b[1;33m)\u001b[0m\u001b[1;33m:\u001b[0m\u001b[1;33m\u001b[0m\u001b[0m\n",
      "\u001b[1;31mNameError\u001b[0m: name 'cgp' is not defined"
     ]
    }
   ],
   "source": [
    "a=Student('peter',3.5,166)"
   ]
  },
  {
   "cell_type": "code",
   "execution_count": 37,
   "metadata": {},
   "outputs": [
    {
     "ename": "AttributeError",
     "evalue": "'Student' object has no attribute 'roll'",
     "output_type": "error",
     "traceback": [
      "\u001b[1;31m---------------------------------------------------------------------------\u001b[0m",
      "\u001b[1;31mAttributeError\u001b[0m                            Traceback (most recent call last)",
      "\u001b[1;32m<ipython-input-37-ef89cfee5a23>\u001b[0m in \u001b[0;36m<module>\u001b[1;34m()\u001b[0m\n\u001b[1;32m----> 1\u001b[1;33m \u001b[0mStudent\u001b[0m\u001b[1;33m.\u001b[0m\u001b[0mall_print\u001b[0m\u001b[1;33m(\u001b[0m\u001b[0ma\u001b[0m\u001b[1;33m)\u001b[0m\u001b[1;33m\u001b[0m\u001b[0m\n\u001b[0m",
      "\u001b[1;32m<ipython-input-35-4e9149c1ce86>\u001b[0m in \u001b[0;36mall_print\u001b[1;34m(selfs)\u001b[0m\n\u001b[0;32m      9\u001b[0m         \u001b[0mprint\u001b[0m\u001b[1;33m(\u001b[0m\u001b[1;34m'the cgpa of'\u001b[0m\u001b[1;33m,\u001b[0m\u001b[0mselfs\u001b[0m\u001b[1;33m.\u001b[0m\u001b[0mname\u001b[0m\u001b[1;33m,\u001b[0m\u001b[1;34m'is'\u001b[0m\u001b[1;33m,\u001b[0m\u001b[0mselfs\u001b[0m\u001b[1;33m.\u001b[0m\u001b[0mcgpa\u001b[0m\u001b[1;33m)\u001b[0m\u001b[1;33m\u001b[0m\u001b[0m\n\u001b[0;32m     10\u001b[0m     \u001b[1;32mdef\u001b[0m \u001b[0mall_print\u001b[0m\u001b[1;33m(\u001b[0m\u001b[0mselfs\u001b[0m\u001b[1;33m)\u001b[0m\u001b[1;33m:\u001b[0m\u001b[1;33m\u001b[0m\u001b[0m\n\u001b[1;32m---> 11\u001b[1;33m         \u001b[0mprint\u001b[0m\u001b[1;33m(\u001b[0m\u001b[0mselfs\u001b[0m\u001b[1;33m.\u001b[0m\u001b[0mname\u001b[0m\u001b[1;33m,\u001b[0m\u001b[1;34m'has roll#'\u001b[0m\u001b[1;33m,\u001b[0m\u001b[0mselfs\u001b[0m\u001b[1;33m.\u001b[0m\u001b[0mroll\u001b[0m\u001b[1;33m,\u001b[0m\u001b[1;34m'and cgpa equal to'\u001b[0m\u001b[1;33m,\u001b[0m\u001b[0mselfs\u001b[0m\u001b[1;33m.\u001b[0m\u001b[0mcgpa\u001b[0m\u001b[1;33m)\u001b[0m\u001b[1;33m\u001b[0m\u001b[0m\n\u001b[0m",
      "\u001b[1;31mAttributeError\u001b[0m: 'Student' object has no attribute 'roll'"
     ]
    }
   ],
   "source": [
    "Student.all_print(a)"
   ]
  },
  {
   "cell_type": "code",
   "execution_count": 40,
   "metadata": {},
   "outputs": [
    {
     "data": {
      "text/plain": [
       "<__main__.Student at 0x258b8ed90b8>"
      ]
     },
     "execution_count": 40,
     "metadata": {},
     "output_type": "execute_result"
    }
   ],
   "source": [
    "a"
   ]
  },
  {
   "cell_type": "code",
   "execution_count": null,
   "metadata": {},
   "outputs": [],
   "source": [
    "p=[]\n",
    "for i in list(range(3)):\n",
    "    a=input('input name:')\n",
    "    b=float(input('input cgpa :'))\n",
    "    c=int(input('input rool :'))\n",
    "    d=Student(a,b,c)\n",
    "    p=p+[d]"
   ]
  },
  {
   "cell_type": "code",
   "execution_count": null,
   "metadata": {},
   "outputs": [],
   "source": [
    "p=[]\n",
    "for i in list(range(3)):\n",
    "    a=input('input name:')\n",
    "    b=float(input('input cgpa :'))\n",
    "    c=int(input('input rool :'))\n",
    "    d=Student(a,b,c)\n",
    "    p=p+[d]"
   ]
  },
  {
   "cell_type": "code",
   "execution_count": 6,
   "metadata": {},
   "outputs": [
    {
     "data": {
      "text/plain": [
       "'Jamal'"
      ]
     },
     "execution_count": 6,
     "metadata": {},
     "output_type": "execute_result"
    }
   ],
   "source": [
    "#!/usr/bin/env python\n",
    "# coding: utf-8\n",
    "\n",
    "# In[22]:\n",
    "\n",
    "\n",
    "class Stack:\n",
    "        def __init__(self):\n",
    "            #object attribute: list to store\n",
    "            self.stack = []\n",
    "\n",
    "        \n",
    "        def push(self, item):\n",
    "            #entering values into object\n",
    "            self.stack.append(item)\n",
    "\n",
    "        def pop(self):\n",
    "            #removing values from the top\n",
    "            return self.stack.pop()\n",
    "\n",
    "        def isEmpty(self):\n",
    "            return self.stack == []\n",
    "        def peek(self):\n",
    "            #additional method that allows you \n",
    "            #to just loop at what is at the top\n",
    "            return self.stack[len(self.stack)-1]\n",
    "\n",
    "        def size(self):\n",
    "            #tells the current size of stack\n",
    "            return len(self.stack)\n",
    "\n",
    "\n",
    "# In[24]:\n",
    "\n",
    "\n",
    "s.push('Ahmed')\n",
    "s.push(5)\n",
    "s.push(3.12)\n",
    "s.push('Jamal')\n",
    "\n",
    "s.peek()"
   ]
  },
  {
   "cell_type": "code",
   "execution_count": 2,
   "metadata": {},
   "outputs": [],
   "source": [
    "\n",
    "\n",
    "class Stack:\n",
    "        def __init__(self):\n",
    "            #object attribute: list to store\n",
    "            self.stack = []\n",
    "\n",
    "        \n",
    "        def push(self, item):\n",
    "            #entering values into object\n",
    "            self.stack.append(item)\n",
    "\n",
    "        def pop(self):\n",
    "            #removing values from the top\n",
    "            return self.stack.pop()\n",
    "\n",
    "        def isEmpty(self):\n",
    "            return self.stack == []\n",
    "        def peek(self):\n",
    "            #additional method that allows you \n",
    "            #to just loop at what is at the top\n",
    "            return self.stack[len(self.stack)-1]\n",
    "\n",
    "        def size(self):\n",
    "            #tells the current size of stack\n",
    "            return len(self.stack)\n",
    "\n",
    "\n",
    "\n",
    "\n",
    "s.push('Ahmed')\n",
    "s.push(5)\n",
    "s.push(3.12)\n",
    "s.push('Jamal')"
   ]
  },
  {
   "cell_type": "code",
   "execution_count": 5,
   "metadata": {},
   "outputs": [
    {
     "ename": "NameError",
     "evalue": "name 'self' is not defined",
     "output_type": "error",
     "traceback": [
      "\u001b[1;31m---------------------------------------------------------------------------\u001b[0m",
      "\u001b[1;31mNameError\u001b[0m                                 Traceback (most recent call last)",
      "\u001b[1;32m<ipython-input-5-1c79dc4a32b8>\u001b[0m in \u001b[0;36m<module>\u001b[1;34m()\u001b[0m\n\u001b[1;32m----> 1\u001b[1;33m \u001b[0mprint\u001b[0m\u001b[1;33m(\u001b[0m\u001b[0mself\u001b[0m\u001b[1;33m.\u001b[0m\u001b[0mStack\u001b[0m\u001b[1;33m)\u001b[0m\u001b[1;33m\u001b[0m\u001b[0m\n\u001b[0m",
      "\u001b[1;31mNameError\u001b[0m: name 'self' is not defined"
     ]
    }
   ],
   "source": []
  },
  {
   "cell_type": "code",
   "execution_count": 7,
   "metadata": {},
   "outputs": [
    {
     "data": {
      "text/plain": [
       "'Mon'"
      ]
     },
     "execution_count": 7,
     "metadata": {},
     "output_type": "execute_result"
    }
   ],
   "source": [
    "#!/usr/bin/env python\n",
    "# coding: utf-8\n",
    "\n",
    "# In[6]:\n",
    "\n",
    "\n",
    "class Queue:\n",
    "\n",
    "        def __init__(self):\n",
    "            self.queue = []\n",
    "\n",
    "        def enqueue(self,dataval):\n",
    "            # Insert method to add element\n",
    "            self.queue.insert(0,dataval)\n",
    "            \n",
    "        # Pop method to remove element\n",
    "        def dequeue(self):\n",
    "            if len(self.queue)>0:\n",
    "                return self.queue.pop()\n",
    "            return (\"No elements in Queue!\")\n",
    "\n",
    "\n",
    "# In[7]:\n",
    "\n",
    "\n",
    "TheQueue = Queue()\n",
    "TheQueue.enqueue(\"Mon\")\n",
    "TheQueue.enqueue(2)\n",
    "TheQueue.enqueue(3.14)\n",
    "\n",
    "TheQueue.dequeue()"
   ]
  },
  {
   "cell_type": "code",
   "execution_count": 8,
   "metadata": {},
   "outputs": [
    {
     "ename": "AttributeError",
     "evalue": "'Queue' object has no attribute 'Queue'",
     "output_type": "error",
     "traceback": [
      "\u001b[1;31m---------------------------------------------------------------------------\u001b[0m",
      "\u001b[1;31mAttributeError\u001b[0m                            Traceback (most recent call last)",
      "\u001b[1;32m<ipython-input-8-a00a57ff0872>\u001b[0m in \u001b[0;36m<module>\u001b[1;34m()\u001b[0m\n\u001b[0;32m     29\u001b[0m \u001b[0mTheQueue\u001b[0m\u001b[1;33m.\u001b[0m\u001b[0menqueue\u001b[0m\u001b[1;33m(\u001b[0m\u001b[1;36m2\u001b[0m\u001b[1;33m)\u001b[0m\u001b[1;33m\u001b[0m\u001b[0m\n\u001b[0;32m     30\u001b[0m \u001b[0mTheQueue\u001b[0m\u001b[1;33m.\u001b[0m\u001b[0menqueue\u001b[0m\u001b[1;33m(\u001b[0m\u001b[1;36m3.14\u001b[0m\u001b[1;33m)\u001b[0m\u001b[1;33m\u001b[0m\u001b[0m\n\u001b[1;32m---> 31\u001b[1;33m \u001b[0mTheQueue\u001b[0m\u001b[1;33m.\u001b[0m\u001b[0mpeek\u001b[0m\u001b[1;33m(\u001b[0m\u001b[1;33m)\u001b[0m\u001b[1;33m\u001b[0m\u001b[0m\n\u001b[0m\u001b[0;32m     32\u001b[0m \u001b[1;33m\u001b[0m\u001b[0m\n\u001b[0;32m     33\u001b[0m \u001b[1;31m# In[8]:\u001b[0m\u001b[1;33m\u001b[0m\u001b[1;33m\u001b[0m\u001b[0m\n",
      "\u001b[1;32m<ipython-input-8-a00a57ff0872>\u001b[0m in \u001b[0;36mpeek\u001b[1;34m(self)\u001b[0m\n\u001b[0;32m     14\u001b[0m             \u001b[0mself\u001b[0m\u001b[1;33m.\u001b[0m\u001b[0mqueue\u001b[0m\u001b[1;33m.\u001b[0m\u001b[0minsert\u001b[0m\u001b[1;33m(\u001b[0m\u001b[1;36m0\u001b[0m\u001b[1;33m,\u001b[0m\u001b[0mdataval\u001b[0m\u001b[1;33m)\u001b[0m\u001b[1;33m\u001b[0m\u001b[0m\n\u001b[0;32m     15\u001b[0m         \u001b[1;32mdef\u001b[0m \u001b[0mpeek\u001b[0m\u001b[1;33m(\u001b[0m\u001b[0mself\u001b[0m\u001b[1;33m)\u001b[0m\u001b[1;33m:\u001b[0m\u001b[1;33m\u001b[0m\u001b[0m\n\u001b[1;32m---> 16\u001b[1;33m              \u001b[1;32mreturn\u001b[0m \u001b[0mself\u001b[0m\u001b[1;33m.\u001b[0m\u001b[0mQueue\u001b[0m\u001b[1;33m[\u001b[0m\u001b[1;33m-\u001b[0m\u001b[1;36m1\u001b[0m\u001b[1;33m]\u001b[0m\u001b[1;33m\u001b[0m\u001b[0m\n\u001b[0m\u001b[0;32m     17\u001b[0m         \u001b[1;31m# Pop method to remove element\u001b[0m\u001b[1;33m\u001b[0m\u001b[1;33m\u001b[0m\u001b[0m\n\u001b[0;32m     18\u001b[0m         \u001b[1;32mdef\u001b[0m \u001b[0mdequeue\u001b[0m\u001b[1;33m(\u001b[0m\u001b[0mself\u001b[0m\u001b[1;33m)\u001b[0m\u001b[1;33m:\u001b[0m\u001b[1;33m\u001b[0m\u001b[0m\n",
      "\u001b[1;31mAttributeError\u001b[0m: 'Queue' object has no attribute 'Queue'"
     ]
    }
   ],
   "source": [
    "#!/usr/bin/env python\n",
    "# coding: utf-8\n",
    "\n",
    "# In[6]:\n",
    "\n",
    "\n",
    "class Queue:\n",
    "\n",
    "        def __init__(self):\n",
    "            self.queue = []\n",
    "\n",
    "        def enqueue(self,dataval):\n",
    "            # Insert method to add element\n",
    "            self.queue.insert(0,dataval)\n",
    "        def peek(self):\n",
    "             return self.Queue[-1]\n",
    "        # Pop method to remove element\n",
    "        def dequeue(self):\n",
    "            if len(self.queue)>0:\n",
    "                return self.queue.pop()\n",
    "            return (\"No elements in Queue!\")\n",
    "\n",
    "\n",
    "# In[7]:\n",
    "\n",
    "\n",
    "TheQueue = Queue()\n",
    "TheQueue.enqueue(\"Mon\")\n",
    "TheQueue.enqueue(2)\n",
    "TheQueue.enqueue(3.14)\n",
    "TheQueue.peek()\n",
    "\n",
    "# In[8]:\n",
    "\n",
    "\n",
    "TheQueue.dequeue()\n",
    "\n",
    "\n",
    "# In[ ]:\n",
    "\n",
    "\n"
   ]
  },
  {
   "cell_type": "code",
   "execution_count": null,
   "metadata": {},
   "outputs": [],
   "source": [
    "class Dynamic_set():\n",
    "        def __init__(self):\n",
    "            self.set = []\n",
    "        def search(self,value):\n",
    "            if value in self.set:\n",
    "                return self.set.index(value)\n",
    "            else:\n",
    "                return False:\n",
    "                "
   ]
  }
 ],
 "metadata": {
  "kernelspec": {
   "display_name": "Python 3",
   "language": "python",
   "name": "python3"
  },
  "language_info": {
   "codemirror_mode": {
    "name": "ipython",
    "version": 3
   },
   "file_extension": ".py",
   "mimetype": "text/x-python",
   "name": "python",
   "nbconvert_exporter": "python",
   "pygments_lexer": "ipython3",
   "version": "3.7.0"
  }
 },
 "nbformat": 4,
 "nbformat_minor": 2
}
